{
 "cells": [
  {
   "cell_type": "code",
   "execution_count": 3,
   "metadata": {},
   "outputs": [
    {
     "ename": "IndentationError",
     "evalue": "expected an indented block (<ipython-input-3-64d9cbc4c068>, line 10)",
     "output_type": "error",
     "traceback": [
      "\u001b[1;36m  File \u001b[1;32m\"<ipython-input-3-64d9cbc4c068>\"\u001b[1;36m, line \u001b[1;32m10\u001b[0m\n\u001b[1;33m    def InterpolateToOSMNodes(x1, y1, speed1, time1, x2, y2, speed2, time2, x, y):# s=None, t=None)\u001b[0m\n\u001b[1;37m                                                                                                   ^\u001b[0m\n\u001b[1;31mIndentationError\u001b[0m\u001b[1;31m:\u001b[0m expected an indented block\n"
     ]
    }
   ],
   "source": [
    "import math\n",
    "\n",
    "# f1-map matched point on OSM (x1,y1,speed1,time1)\n",
    "# f2-map matched point on OSM (x2,y2,speed2,time2)\n",
    "# p-osm node to be interpolated (x,y,speedInterpolated,timeInterpolated)\n",
    "\n",
    "class Point:\n",
    "   def _init_(self,x,y,speed,time):\n",
    "\n",
    "def InterpolateToOSMNodes(x1, y1, speed1, time1, x2, y2, speed2, time2, x, y):# s=None, t=None)\n",
    "    # distance1 distance between point f1 to p\n",
    "    distance1 = math.sqrt(pow((x1-x),2) + pow((y1-y),2))\n",
    "    print(distance1)\n",
    "    \n",
    "    # distance2 distance between point f2 to p \n",
    "    distance2 = math.sqrt(pow((x2-x),2) + pow((y2-y),2))\n",
    "    print(distance2)\n",
    "    \n",
    "    if((distance1 or distance2) < 50):  # d1 or d2 less than value 50m, same point will be assigned to p\n",
    "        if(distance1 < distance2):\n",
    "            speed = speed1\n",
    "            d = d1\n",
    "            t = t1\n",
    "        else:\n",
    "            s = s2\n",
    "            d = d2\n",
    "            t = t2\n",
    "    elif ((d1 or d2) < 200):  #  d1 or d2 less than 200m, assume constant speed but time is different t = tx\n",
    "        if(d1 < d2):\n",
    "            s = s1\n",
    "            d = d1\n",
    "            tx = t1\n",
    "        else:\n",
    "            s = s2\n",
    "            d = d2\n",
    "            tx = t2\n",
    "        # using s = ut \n",
    "        tx = (d/s)-tx\n",
    "    else: # derive speed and time from two known mapped FCD points\n",
    "        #Applying v=u+at and s=(1/2)(u+v)t for two known points and the unknown points\n",
    "        T = t2 - t1\n",
    "        a = T\n",
    "        b = ((T*s1)+(T*s2)-(2*d1)-(2*d2))\n",
    "        c = ((T*s1*s2)-(2*d1*s2)-(2*d1*s2)-(2*d2*s1))\n",
    "        \n",
    "        discriminant = (pow(b,2)-(4*a*c))\n",
    "             \n",
    "        s_pos = ((-b)+math.sqrt(discriminant))/(2*a)\n",
    "        s_neg = ((-b)-math.sqrt(discriminant))/(2*a)\n",
    "        \n",
    "        print(s_pos)\n",
    "        print(s_neg)\n",
    "         \n",
    "\n",
    "InterpolateToOSMNodes(300,250,3,4,505,1306,7,8,9,10)"
   ]
  },
  {
   "cell_type": "code",
   "execution_count": null,
   "metadata": {},
   "outputs": [],
   "source": []
  },
  {
   "cell_type": "code",
   "execution_count": null,
   "metadata": {},
   "outputs": [],
   "source": []
  },
  {
   "cell_type": "code",
   "execution_count": null,
   "metadata": {},
   "outputs": [],
   "source": []
  },
  {
   "cell_type": "code",
   "execution_count": null,
   "metadata": {},
   "outputs": [],
   "source": []
  },
  {
   "cell_type": "code",
   "execution_count": null,
   "metadata": {},
   "outputs": [],
   "source": []
  },
  {
   "cell_type": "code",
   "execution_count": null,
   "metadata": {},
   "outputs": [],
   "source": []
  },
  {
   "cell_type": "code",
   "execution_count": null,
   "metadata": {},
   "outputs": [],
   "source": []
  }
 ],
 "metadata": {
  "kernelspec": {
   "display_name": "envirocar",
   "language": "python",
   "name": "envirocar"
  },
  "language_info": {
   "codemirror_mode": {
    "name": "ipython",
    "version": 3
   },
   "file_extension": ".py",
   "mimetype": "text/x-python",
   "name": "python",
   "nbconvert_exporter": "python",
   "pygments_lexer": "ipython3",
   "version": "3.6.10"
  }
 },
 "nbformat": 4,
 "nbformat_minor": 4
}
